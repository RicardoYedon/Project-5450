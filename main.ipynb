{
 "cells": [
  {
   "cell_type": "markdown",
   "metadata": {},
   "source": [
    "1. Import Necessary Libraries"
   ]
  },
  {
   "cell_type": "code",
   "execution_count": 1,
   "metadata": {},
   "outputs": [],
   "source": [
    "import pandas as pd\n",
    "import numpy as np\n",
    "import matplotlib.pyplot as plt\n",
    "import seaborn as sns\n",
    "\n",
    "from sklearn.feature_extraction.text import TfidfVectorizer, CountVectorizer\n",
    "from sklearn.metrics.pairwise import linear_kernel, cosine_similarity\n",
    "from sklearn.neighbors import NearestNeighbors\n",
    "from sklearn.model_selection import train_test_split, cross_val_score, KFold\n",
    "from sklearn.metrics import mean_squared_error\n",
    "from sklearn.preprocessing import StandardScaler\n",
    "\n",
    "from scipy.sparse.linalg import svds\n",
    "from ast import literal_eval\n",
    "\n"
   ]
  },
  {
   "cell_type": "markdown",
   "metadata": {},
   "source": [
    "2. Load and Clean the Datasets"
   ]
  },
  {
   "cell_type": "markdown",
   "metadata": {},
   "source": [
    "2.1 Load Datasets"
   ]
  },
  {
   "cell_type": "code",
   "execution_count": 2,
   "metadata": {},
   "outputs": [],
   "source": [
    "# Load ratings data\n",
    "ratings = pd.read_csv('ratings_small.csv')\n",
    "\n",
    "# Load movies metadata\n",
    "movies_metadata = pd.read_csv('movies_metadata.csv', low_memory=False)\n",
    "\n",
    "# Load credits data\n",
    "credits = pd.read_csv('credits.csv')\n",
    "\n",
    "# Load keywords data\n",
    "keywords = pd.read_csv('keywords.csv')\n",
    "\n",
    "# Load links data\n",
    "links_small = pd.read_csv('links_small.csv')\n"
   ]
  },
  {
   "cell_type": "markdown",
   "metadata": {},
   "source": [
    "2.2 Clean and Merge Datasets"
   ]
  },
  {
   "cell_type": "markdown",
   "metadata": {},
   "source": [
    "2.2.1 Clean Movies Metadata"
   ]
  },
  {
   "cell_type": "code",
   "execution_count": 3,
   "metadata": {},
   "outputs": [],
   "source": [
    "# Convert 'id' to numeric, coercing errors\n",
    "movies_metadata['id'] = pd.to_numeric(movies_metadata['id'], errors='coerce')\n",
    "\n",
    "# Drop rows with NaN IDs\n",
    "movies_metadata = movies_metadata.dropna(subset=['id'])\n",
    "\n",
    "# Convert 'id' to integer\n",
    "movies_metadata['id'] = movies_metadata['id'].astype(int)\n"
   ]
  },
  {
   "cell_type": "code",
   "execution_count": 4,
   "metadata": {},
   "outputs": [],
   "source": [
    "# Convert 'id' to numeric, coercing errors\n",
    "movies_metadata['id'] = pd.to_numeric(movies_metadata['id'], errors='coerce')\n",
    "\n",
    "# Drop rows with NaN IDs\n",
    "movies_metadata = movies_metadata.dropna(subset=['id'])\n",
    "\n",
    "# Convert 'id' to integer\n",
    "movies_metadata['id'] = movies_metadata['id'].astype(int)\n"
   ]
  },
  {
   "cell_type": "markdown",
   "metadata": {},
   "source": [
    "2.2.2 Merge Movies Metadata with Credits and Keywords"
   ]
  },
  {
   "cell_type": "code",
   "execution_count": 5,
   "metadata": {},
   "outputs": [],
   "source": [
    "# Merge credits\n",
    "movies_metadata = movies_metadata.merge(credits, on='id')\n",
    "\n",
    "# Merge keywords\n",
    "movies_metadata = movies_metadata.merge(keywords, on='id')\n"
   ]
  },
  {
   "cell_type": "markdown",
   "metadata": {},
   "source": [
    "2.2.3 Filter Movies Present in Links Small\n",
    "We need to ensure that only movies present in links_small.csv are considered, as these are the ones with ratings."
   ]
  },
  {
   "cell_type": "code",
   "execution_count": 7,
   "metadata": {},
   "outputs": [],
   "source": [
    "# Convert 'tmdbId' to numeric and drop NaNs\n",
    "links_small['tmdbId'] = pd.to_numeric(links_small['tmdbId'], errors='coerce')\n",
    "links_small = links_small.dropna(subset=['tmdbId'])\n",
    "links_small['tmdbId'] = links_small['tmdbId'].astype(int)\n",
    "\n",
    "# Convert 'id' in movies_metadata to numeric and drop NaNs\n",
    "movies_metadata['id'] = pd.to_numeric(movies_metadata['id'], errors='coerce')\n",
    "movies_metadata = movies_metadata.dropna(subset=['id'])\n",
    "movies_metadata['id'] = movies_metadata['id'].astype(int)\n",
    "\n",
    "# Filter movies_metadata to only include movies present in links_small\n",
    "movies_metadata = movies_metadata[movies_metadata['id'].isin(links_small['tmdbId'])]\n"
   ]
  },
  {
   "cell_type": "markdown",
   "metadata": {},
   "source": [
    "3. Preprocess Data (Feature Engineering)"
   ]
  },
  {
   "cell_type": "markdown",
   "metadata": {},
   "source": [
    "3.1 Process Genres"
   ]
  },
  {
   "cell_type": "code",
   "execution_count": 8,
   "metadata": {},
   "outputs": [],
   "source": [
    "# Convert genres from string to list\n",
    "movies_metadata['genres'] = movies_metadata['genres'].fillna('[]').apply(literal_eval)\n",
    "movies_metadata['genres'] = movies_metadata['genres'].apply(lambda x: [d['name'] for d in x] if isinstance(x, list) else [])\n"
   ]
  },
  {
   "cell_type": "markdown",
   "metadata": {},
   "source": [
    "3.2 Process Keywords"
   ]
  },
  {
   "cell_type": "code",
   "execution_count": 9,
   "metadata": {},
   "outputs": [],
   "source": [
    "# Convert keywords from string to list\n",
    "movies_metadata['keywords'] = movies_metadata['keywords'].fillna('[]').apply(literal_eval)\n",
    "movies_metadata['keywords'] = movies_metadata['keywords'].apply(lambda x: [d['name'] for d in x] if isinstance(x, list) else [])\n"
   ]
  },
  {
   "cell_type": "markdown",
   "metadata": {},
   "source": [
    "3.3 Process Cast\n",
    "We'll extract the top 3 cast members for each movie."
   ]
  },
  {
   "cell_type": "code",
   "execution_count": 10,
   "metadata": {},
   "outputs": [],
   "source": [
    "# Convert cast from string to list\n",
    "movies_metadata['cast'] = movies_metadata['cast'].apply(literal_eval)\n",
    "movies_metadata['cast'] = movies_metadata['cast'].apply(lambda x: [d['name'] for d in x] if isinstance(x, list) else [])\n",
    "movies_metadata['cast'] = movies_metadata['cast'].apply(lambda x: x[:3] if len(x) >=3 else x)\n"
   ]
  },
  {
   "cell_type": "markdown",
   "metadata": {},
   "source": [
    "3.4 Process Crew\n",
    "We'll extract the director's name."
   ]
  },
  {
   "cell_type": "code",
   "execution_count": 11,
   "metadata": {},
   "outputs": [],
   "source": [
    "def get_director(x):\n",
    "    for crew_member in x:\n",
    "        if crew_member.get('job') == 'Director':\n",
    "            return crew_member.get('name')\n",
    "    return np.nan\n",
    "\n",
    "movies_metadata['crew'] = movies_metadata['crew'].apply(literal_eval)\n",
    "movies_metadata['director'] = movies_metadata['crew'].apply(get_director)\n"
   ]
  },
  {
   "cell_type": "markdown",
   "metadata": {},
   "source": [
    "3.5 Create a 'Soup' of Features\n",
    "We'll combine genres, keywords, cast, and director into a single string."
   ]
  },
  {
   "cell_type": "code",
   "execution_count": 12,
   "metadata": {},
   "outputs": [],
   "source": [
    "def clean_data(x):\n",
    "    if isinstance(x, list):\n",
    "        return [str.lower(i.replace(\" \", \"\")) for i in x]\n",
    "    else:\n",
    "        # Check if director is a string\n",
    "        if isinstance(x, str):\n",
    "            return str.lower(x.replace(\" \", \"\"))\n",
    "        else:\n",
    "            return ''\n",
    "\n",
    "movies_metadata['genres'] = movies_metadata['genres'].apply(clean_data)\n",
    "movies_metadata['keywords'] = movies_metadata['keywords'].apply(clean_data)\n",
    "movies_metadata['cast'] = movies_metadata['cast'].apply(clean_data)\n",
    "movies_metadata['director'] = movies_metadata['director'].astype('str').apply(clean_data)\n",
    "\n",
    "movies_metadata['soup'] = movies_metadata['genres'] + movies_metadata['keywords'] + movies_metadata['cast']\n",
    "movies_metadata['soup'] = movies_metadata['soup'].apply(lambda x: ' '.join(x))\n"
   ]
  },
  {
   "cell_type": "markdown",
   "metadata": {},
   "source": [
    "4. Exploratory Data Analysis (EDA)\n",
    "4.1 Overview of the Dataset"
   ]
  },
  {
   "cell_type": "code",
   "execution_count": 13,
   "metadata": {},
   "outputs": [
    {
     "name": "stdout",
     "output_type": "stream",
     "text": [
      "                         title                        genres  \\\n",
      "0                    Toy Story   [animation, comedy, family]   \n",
      "1                      Jumanji  [adventure, fantasy, family]   \n",
      "2             Grumpier Old Men             [romance, comedy]   \n",
      "3            Waiting to Exhale      [comedy, drama, romance]   \n",
      "4  Father of the Bride Part II                      [comedy]   \n",
      "\n",
      "                                            keywords  \\\n",
      "0  [jealousy, toy, boy, friendship, friends, riva...   \n",
      "1  [boardgame, disappearance, basedonchildren'sbo...   \n",
      "2  [fishing, bestfriend, duringcreditsstinger, ol...   \n",
      "3  [basedonnovel, interracialrelationship, single...   \n",
      "4  [baby, midlifecrisis, confidence, aging, daugh...   \n",
      "\n",
      "                                             cast        director  \n",
      "0                [tomhanks, timallen, donrickles]    johnlasseter  \n",
      "1     [robinwilliams, jonathanhyde, kirstendunst]     joejohnston  \n",
      "2        [waltermatthau, jacklemmon, ann-margret]    howarddeutch  \n",
      "3  [whitneyhouston, angelabassett, lorettadevine]  forestwhitaker  \n",
      "4         [stevemartin, dianekeaton, martinshort]    charlesshyer  \n"
     ]
    }
   ],
   "source": [
    "print(movies_metadata[['title', 'genres', 'keywords', 'cast', 'director']].head())\n"
   ]
  },
  {
   "cell_type": "markdown",
   "metadata": {},
   "source": [
    "4.2 Ratings Distribution"
   ]
  },
  {
   "cell_type": "code",
   "execution_count": 14,
   "metadata": {},
   "outputs": [
    {
     "data": {
      "image/png": "[encoded data removed]",
      "text/plain": [
       "<Figure size 640x480 with 1 Axes>"
      ]
     },
     "metadata": {},
     "output_type": "display_data"
    }
   ],
   "source": [
    "sns.histplot(ratings['rating'], bins=10, kde=False)\n",
    "plt.title('Distribution of Ratings')\n",
    "plt.xlabel('Rating')\n",
    "plt.ylabel('Count')\n",
    "plt.show()\n"
   ]
  },
  {
   "cell_type": "markdown",
   "metadata": {},
   "source": [
    "4.3 Most Common Genres"
   ]
  },
  {
   "cell_type": "code",
   "execution_count": 15,
   "metadata": {},
   "outputs": [
    {
     "data": {
      "image/png": "[encoded data removed]",
      "text/plain": [
       "<Figure size 1200x600 with 1 Axes>"
      ]
     },
     "metadata": {},
     "output_type": "display_data"
    }
   ],
   "source": [
    "from collections import Counter\n",
    "\n",
    "genre_counter = Counter()\n",
    "for genres in movies_metadata['genres']:\n",
    "    genre_counter.update(genres)\n",
    "\n",
    "genres, counts = zip(*genre_counter.most_common(15))\n",
    "plt.figure(figsize=(12,6))\n",
    "sns.barplot(x=list(genres), y=list(counts))\n",
    "plt.title('Top Genres')\n",
    "plt.xticks(rotation=45)\n",
    "plt.ylabel('Number of Movies')\n",
    "plt.show()\n"
   ]
  },
  {
   "cell_type": "markdown",
   "metadata": {},
   "source": [
    "5. Baseline Model\n",
    "Our baseline model predicts the mean rating for all user-movie pairs."
   ]
  },
  {
   "cell_type": "code",
   "execution_count": 16,
   "metadata": {},
   "outputs": [
    {
     "name": "stdout",
     "output_type": "stream",
     "text": [
      "Global Mean Rating: 3.543608255669773\n",
      "Baseline RMSE: 1.058058818984873\n"
     ]
    }
   ],
   "source": [
    "# Compute the global mean rating\n",
    "global_mean = ratings['rating'].mean()\n",
    "print(f'Global Mean Rating: {global_mean}')\n",
    "\n",
    "# Create baseline predictions\n",
    "baseline_predictions = np.full(len(ratings), global_mean)\n",
    "\n",
    "# Calculate RMSE for the baseline model\n",
    "baseline_rmse = np.sqrt(mean_squared_error(ratings['rating'], baseline_predictions))\n",
    "print(f'Baseline RMSE: {baseline_rmse}')\n"
   ]
  },
  {
   "cell_type": "markdown",
   "metadata": {},
   "source": [
    "6. Collaborative Filtering Models (K-NN and SVD)"
   ]
  },
  {
   "cell_type": "markdown",
   "metadata": {},
   "source": [
    "6.1 Prepare the Data\n",
    "We'll create a user-item interaction matrix."
   ]
  },
  {
   "cell_type": "code",
   "execution_count": 17,
   "metadata": {},
   "outputs": [],
   "source": [
    "# Use a smaller subset for computational efficiency\n",
    "small_ratings = ratings if len(ratings) < 100000 else ratings.sample(100000, random_state=42)\n",
    "\n",
    "# Create a pivot table\n",
    "user_item_matrix = small_ratings.pivot_table(index='userId', columns='movieId', values='rating')\n"
   ]
  },
  {
   "cell_type": "markdown",
   "metadata": {},
   "source": [
    "6.2 Train-Test Split"
   ]
  },
  {
   "cell_type": "code",
   "execution_count": 18,
   "metadata": {},
   "outputs": [],
   "source": [
    "train_data, test_data = train_test_split(small_ratings, test_size=0.2, random_state=42)\n"
   ]
  },
  {
   "cell_type": "markdown",
   "metadata": {},
   "source": [
    "6.3 K-NN Model\n",
    "6.3.1 Prepare Data for K-NN"
   ]
  },
  {
   "cell_type": "code",
   "execution_count": 19,
   "metadata": {},
   "outputs": [],
   "source": [
    "# Fill NaN with zeros for distance calculations\n",
    "user_item_matrix_knn = train_data.pivot_table(index='userId', columns='movieId', values='rating').fillna(0)\n"
   ]
  },
  {
   "cell_type": "markdown",
   "metadata": {},
   "source": [
    "6.3.2 Fit the K-NN Model"
   ]
  },
  {
   "cell_type": "code",
   "execution_count": 20,
   "metadata": {},
   "outputs": [
    {
     "data": {
      "text/html": [
       "<style>#sk-container-id-1 {color: black;}#sk-container-id-1 pre{padding: 0;}#sk-container-id-1 div.sk-toggleable {background-color: white;}#sk-container-id-1 label.sk-toggleable__label {cursor: pointer;display: block;width: 100%;margin-bottom: 0;padding: 0.3em;box-sizing: border-box;text-align: center;}#sk-container-id-1 label.sk-toggleable__label-arrow:before {content: \"▸\";float: left;margin-right: 0.25em;color: #696969;}#sk-container-id-1 label.sk-toggleable__label-arrow:hover:before {color: black;}#sk-container-id-1 div.sk-estimator:hover label.sk-toggleable__label-arrow:before {color: black;}#sk-container-id-1 div.sk-toggleable__content {max-height: 0;max-width: 0;overflow: hidden;text-align: left;background-color: #f0f8ff;}#sk-container-id-1 div.sk-toggleable__content pre {margin: 0.2em;color: black;border-radius: 0.25em;background-color: #f0f8ff;}#sk-container-id-1 input.sk-toggleable__control:checked~div.sk-toggleable__content {max-height: 200px;max-width: 100%;overflow: auto;}#sk-container-id-1 input.sk-toggleable__control:checked~label.sk-toggleable__label-arrow:before {content: \"▾\";}#sk-container-id-1 div.sk-estimator input.sk-toggleable__control:checked~label.sk-toggleable__label {background-color: #d4ebff;}#sk-container-id-1 div.sk-label input.sk-toggleable__control:checked~label.sk-toggleable__label {background-color: #d4ebff;}#sk-container-id-1 input.sk-hidden--visually {border: 0;clip: rect(1px 1px 1px 1px);clip: rect(1px, 1px, 1px, 1px);height: 1px;margin: -1px;overflow: hidden;padding: 0;position: absolute;width: 1px;}#sk-container-id-1 div.sk-estimator {font-family: monospace;background-color: #f0f8ff;border: 1px dotted black;border-radius: 0.25em;box-sizing: border-box;margin-bottom: 0.5em;}#sk-container-id-1 div.sk-estimator:hover {background-color: #d4ebff;}#sk-container-id-1 div.sk-parallel-item::after {content: \"\";width: 100%;border-bottom: 1px solid gray;flex-grow: 1;}#sk-container-id-1 div.sk-label:hover label.sk-toggleable__label {background-color: #d4ebff;}#sk-container-id-1 div.sk-serial::before {content: \"\";position: absolute;border-left: 1px solid gray;box-sizing: border-box;top: 0;bottom: 0;left: 50%;z-index: 0;}#sk-container-id-1 div.sk-serial {display: flex;flex-direction: column;align-items: center;background-color: white;padding-right: 0.2em;padding-left: 0.2em;position: relative;}#sk-container-id-1 div.sk-item {position: relative;z-index: 1;}#sk-container-id-1 div.sk-parallel {display: flex;align-items: stretch;justify-content: center;background-color: white;position: relative;}#sk-container-id-1 div.sk-item::before, #sk-container-id-1 div.sk-parallel-item::before {content: \"\";position: absolute;border-left: 1px solid gray;box-sizing: border-box;top: 0;bottom: 0;left: 50%;z-index: -1;}#sk-container-id-1 div.sk-parallel-item {display: flex;flex-direction: column;z-index: 1;position: relative;background-color: white;}#sk-container-id-1 div.sk-parallel-item:first-child::after {align-self: flex-end;width: 50%;}#sk-container-id-1 div.sk-parallel-item:last-child::after {align-self: flex-start;width: 50%;}#sk-container-id-1 div.sk-parallel-item:only-child::after {width: 0;}#sk-container-id-1 div.sk-dashed-wrapped {border: 1px dashed gray;margin: 0 0.4em 0.5em 0.4em;box-sizing: border-box;padding-bottom: 0.4em;background-color: white;}#sk-container-id-1 div.sk-label label {font-family: monospace;font-weight: bold;display: inline-block;line-height: 1.2em;}#sk-container-id-1 div.sk-label-container {text-align: center;}#sk-container-id-1 div.sk-container {/* jupyter's `normalize.less` sets `[hidden] { display: none; }` but bootstrap.min.css set `[hidden] { display: none !important; }` so we also need the `!important` here to be able to override the default hidden behavior on the sphinx rendered scikit-learn.org. See: https://github.com/scikit-learn/scikit-learn/issues/21755 */display: inline-block !important;position: relative;}#sk-container-id-1 div.sk-text-repr-fallback {display: none;}</style><div id=\"sk-container-id-1\" class=\"sk-top-container\"><div class=\"sk-text-repr-fallback\"><pre>NearestNeighbors(algorithm=&#x27;brute&#x27;, metric=&#x27;cosine&#x27;)</pre><b>In a Jupyter environment, please rerun this cell to show the HTML representation or trust the notebook. <br />On GitHub, the HTML representation is unable to render, please try loading this page with nbviewer.org.</b></div><div class=\"sk-container\" hidden><div class=\"sk-item\"><div class=\"sk-estimator sk-toggleable\"><input class=\"sk-toggleable__control sk-hidden--visually\" id=\"sk-estimator-id-1\" type=\"checkbox\" checked><label for=\"sk-estimator-id-1\" class=\"sk-toggleable__label sk-toggleable__label-arrow\">NearestNeighbors</label><div class=\"sk-toggleable__content\"><pre>NearestNeighbors(algorithm=&#x27;brute&#x27;, metric=&#x27;cosine&#x27;)</pre></div></div></div></div></div>"
      ],
      "text/plain": [
       "NearestNeighbors(algorithm='brute', metric='cosine')"
      ]
     },
     "execution_count": 20,
     "metadata": {},
     "output_type": "execute_result"
    }
   ],
   "source": [
    "knn_model = NearestNeighbors(metric='cosine', algorithm='brute')\n",
    "knn_model.fit(user_item_matrix_knn.values)\n"
   ]
  },
  {
   "cell_type": "markdown",
   "metadata": {},
   "source": [
    "6.3.3 Predict Ratings"
   ]
  },
  {
   "cell_type": "code",
   "execution_count": 23,
   "metadata": {},
   "outputs": [],
   "source": [
    "def knn_predict(user_id, movie_id, k=5):\n",
    "    if user_id in user_item_matrix_knn.index:\n",
    "        if movie_id in user_item_matrix_knn.columns:\n",
    "            user_index = user_item_matrix_knn.index.tolist().index(user_id)\n",
    "            distances, indices = knn_model.kneighbors(\n",
    "                user_item_matrix_knn.iloc[user_index, :].values.reshape(1, -1),\n",
    "                n_neighbors=k+1\n",
    "            )\n",
    "            similarities = 1 - distances.flatten()\n",
    "            similarities = similarities[1:]  # Exclude the user itself\n",
    "            indices = indices.flatten()[1:]\n",
    "\n",
    "            user_indices = [user_item_matrix_knn.index[i] for i in indices]\n",
    "            # Get the neighbor ratings for the movie\n",
    "            neighbor_ratings = user_item_matrix_knn.loc[user_indices, movie_id]\n",
    "            mask = neighbor_ratings.notna()\n",
    "            if mask.sum() == 0:\n",
    "                # Neighbors haven't rated the movie\n",
    "                return global_mean\n",
    "            predicted_rating = np.dot(similarities[mask], neighbor_ratings[mask]) / similarities[mask].sum()\n",
    "            return predicted_rating\n",
    "        else:\n",
    "            # Movie not in training data\n",
    "            return global_mean\n",
    "    else:\n",
    "        # User not in training data\n",
    "        return global_mean\n",
    "\n"
   ]
  },
  {
   "cell_type": "markdown",
   "metadata": {},
   "source": [
    "6.3.4 Evaluate the K-NN Model"
   ]
  },
  {
   "cell_type": "code",
   "execution_count": 24,
   "metadata": {},
   "outputs": [
    {
     "name": "stdout",
     "output_type": "stream",
     "text": [
      "K-NN Model RMSE: 2.7451076261579694\n"
     ]
    }
   ],
   "source": [
    "test_users = test_data['userId'].values\n",
    "test_movies = test_data['movieId'].values\n",
    "knn_predictions = []\n",
    "\n",
    "for user, movie in zip(test_users, test_movies):\n",
    "    pred = knn_predict(user, movie, k=5)\n",
    "    knn_predictions.append(pred)\n",
    "\n",
    "knn_rmse = np.sqrt(mean_squared_error(test_data['rating'], knn_predictions))\n",
    "print(f'K-NN Model RMSE: {knn_rmse}')\n"
   ]
  },
  {
   "cell_type": "markdown",
   "metadata": {},
   "source": [
    "6.4 SVD Model"
   ]
  },
  {
   "cell_type": "markdown",
   "metadata": {},
   "source": [
    "6.4.1 Prepare Data for SVD"
   ]
  },
  {
   "cell_type": "code",
   "execution_count": 25,
   "metadata": {},
   "outputs": [],
   "source": [
    "# Create a user-item rating matrix\n",
    "R = train_data.pivot_table(index='userId', columns='movieId', values='rating').fillna(0).values\n",
    "user_ids = train_data['userId'].unique()\n",
    "movie_ids = train_data['movieId'].unique()\n"
   ]
  },
  {
   "cell_type": "markdown",
   "metadata": {},
   "source": [
    "6.4.2 Compute SVD"
   ]
  },
  {
   "cell_type": "code",
   "execution_count": 26,
   "metadata": {},
   "outputs": [],
   "source": [
    "# Mean center the data\n",
    "R_mean = np.mean(R, axis=1)\n",
    "R_demeaned = R - R_mean.reshape(-1, 1)\n",
    "\n",
    "# Perform SVD\n",
    "U, sigma, Vt = svds(R_demeaned, k=50)\n",
    "sigma = np.diag(sigma)\n"
   ]
  },
  {
   "cell_type": "markdown",
   "metadata": {},
   "source": [
    "6.4.3 Reconstruct the Ratings Matrix"
   ]
  },
  {
   "cell_type": "code",
   "execution_count": 27,
   "metadata": {},
   "outputs": [],
   "source": [
    "R_pred = np.dot(np.dot(U, sigma), Vt) + R_mean.reshape(-1, 1)\n"
   ]
  },
  {
   "cell_type": "markdown",
   "metadata": {},
   "source": [
    "6.4.4 Evaluate the SVD Model"
   ]
  },
  {
   "cell_type": "code",
   "execution_count": 28,
   "metadata": {},
   "outputs": [
    {
     "name": "stdout",
     "output_type": "stream",
     "text": [
      "SVD Model RMSE: 3.5914821003515343\n"
     ]
    }
   ],
   "source": [
    "predictions_df = pd.DataFrame(R_pred, index=user_ids, columns=movie_ids)\n",
    "\n",
    "def svd_predict(user_id, movie_id):\n",
    "    try:\n",
    "        return predictions_df.loc[user_id, movie_id]\n",
    "    except:\n",
    "        return global_mean\n",
    "\n",
    "svd_predictions = []\n",
    "\n",
    "for user, movie in zip(test_users, test_movies):\n",
    "    pred = svd_predict(user, movie)\n",
    "    svd_predictions.append(pred)\n",
    "\n",
    "svd_rmse = np.sqrt(mean_squared_error(test_data['rating'], svd_predictions))\n",
    "print(f'SVD Model RMSE: {svd_rmse}')\n"
   ]
  },
  {
   "cell_type": "markdown",
   "metadata": {},
   "source": [
    "7. Content-Based Filtering Model\n",
    "We'll use the 'soup' feature created earlier to compute similarities."
   ]
  },
  {
   "cell_type": "markdown",
   "metadata": {},
   "source": [
    "7.1 Compute the TF-IDF Matrix"
   ]
  },
  {
   "cell_type": "code",
   "execution_count": 29,
   "metadata": {},
   "outputs": [],
   "source": [
    "tfidf = TfidfVectorizer(stop_words='english')\n",
    "tfidf_matrix = tfidf.fit_transform(movies_metadata['soup'])\n"
   ]
  },
  {
   "cell_type": "markdown",
   "metadata": {},
   "source": [
    "7.2 Compute Cosine Similarity"
   ]
  },
  {
   "cell_type": "code",
   "execution_count": 30,
   "metadata": {},
   "outputs": [],
   "source": [
    "cosine_sim = cosine_similarity(tfidf_matrix, tfidf_matrix)\n"
   ]
  },
  {
   "cell_type": "markdown",
   "metadata": {},
   "source": [
    "7.3 Create a Reverse Mapping of Movie Titles to Indices"
   ]
  },
  {
   "cell_type": "code",
   "execution_count": 31,
   "metadata": {},
   "outputs": [],
   "source": [
    "indices = pd.Series(movies_metadata.index, index=movies_metadata['title']).drop_duplicates()\n"
   ]
  },
  {
   "cell_type": "markdown",
   "metadata": {},
   "source": [
    "7.4 Function to Get Recommendations"
   ]
  },
  {
   "cell_type": "code",
   "execution_count": 32,
   "metadata": {},
   "outputs": [],
   "source": [
    "def get_content_recommendations(title, num_recommendations=10):\n",
    "    idx = indices[title]\n",
    "    sim_scores = list(enumerate(cosine_sim[idx]))\n",
    "    sim_scores = sorted(sim_scores, key=lambda x: x[1], reverse=True)\n",
    "    sim_scores = sim_scores[1:num_recommendations+1]\n",
    "    movie_indices = [i[0] for i in sim_scores]\n",
    "    return movies_metadata['title'].iloc[movie_indices]\n"
   ]
  },
  {
   "cell_type": "markdown",
   "metadata": {},
   "source": [
    "7.5 Example Usage"
   ]
  },
  {
   "cell_type": "code",
   "execution_count": 33,
   "metadata": {},
   "outputs": [
    {
     "name": "stdout",
     "output_type": "stream",
     "text": [
      "Content-Based Recommendations for Toy Story:\n",
      "15519                            Toy Story 3\n",
      "3024                             Toy Story 2\n",
      "22126                   Toy Story of Terror!\n",
      "3336                       Creature Comforts\n",
      "14832    Mr. Warmth: The Don Rickles Project\n",
      "Name: title, dtype: object\n"
     ]
    }
   ],
   "source": [
    "print('Content-Based Recommendations for Toy Story:')\n",
    "print(get_content_recommendations('Toy Story', 5))\n"
   ]
  },
  {
   "cell_type": "markdown",
   "metadata": {},
   "source": [
    "8. Hybrid Recommendation System\n",
    "We'll combine collaborative filtering and content-based filtering."
   ]
  },
  {
   "cell_type": "markdown",
   "metadata": {},
   "source": [
    "8.1 Function to Get Hybrid Recommendations"
   ]
  },
  {
   "cell_type": "code",
   "execution_count": 34,
   "metadata": {},
   "outputs": [],
   "source": [
    "def hybrid_recommendations(user_id, title, num_recommendations=10):\n",
    "    content_recs = get_content_recommendations(title, num_recommendations=100)\n",
    "    content_recs = movies_metadata[movies_metadata['title'].isin(content_recs)]\n",
    "    content_recs = content_recs.merge(links_small, left_on='id', right_on='tmdbId', how='inner')\n",
    "    content_recs = content_recs.merge(ratings[['movieId']].drop_duplicates(), left_on='movieId', right_on='movieId', how='inner')\n",
    "    content_recs = content_recs.drop_duplicates('movieId')\n",
    "    content_recs['est_rating'] = content_recs['movieId'].apply(lambda x: svd_predict(user_id, x))\n",
    "    content_recs = content_recs.sort_values('est_rating', ascending=False)\n",
    "    return content_recs[['title', 'est_rating']].head(num_recommendations)\n"
   ]
  },
  {
   "cell_type": "markdown",
   "metadata": {},
   "source": [
    "8.2 Example Usage"
   ]
  },
  {
   "cell_type": "code",
   "execution_count": 35,
   "metadata": {},
   "outputs": [
    {
     "name": "stdout",
     "output_type": "stream",
     "text": [
      "Hybrid Recommendations for User 1 based on \"Toy Story\":\n",
      "                                    title  est_rating\n",
      "59         The Lion King 2: Simba's Pride    3.543608\n",
      "63                                Valiant    3.543608\n",
      "67  The Santa Clause 3: The Escape Clause    3.543608\n",
      "69                              Wild Hogs    3.543608\n",
      "75                  Margot at the Wedding    3.543608\n"
     ]
    }
   ],
   "source": [
    "user_id = 1\n",
    "title = 'Toy Story'\n",
    "\n",
    "print(f'Hybrid Recommendations for User {user_id} based on \"{title}\":')\n",
    "hybrid_recs = hybrid_recommendations(user_id, title, 5)\n",
    "print(hybrid_recs)\n"
   ]
  },
  {
   "cell_type": "markdown",
   "metadata": {},
   "source": [
    "9. Cross-Validation and Hypothesis Testing"
   ]
  },
  {
   "cell_type": "markdown",
   "metadata": {},
   "source": [
    "9.1 Cross-Validation\n",
    "K-NN Cross-Validation\n",
    "Due to computational constraints, we'll perform cross-validation on a smaller sample."
   ]
  },
  {
   "cell_type": "code",
   "execution_count": 36,
   "metadata": {},
   "outputs": [
    {
     "name": "stdout",
     "output_type": "stream",
     "text": [
      "K-NN Cross-Validation RMSE: 2.7040323221374534 ± 0.021168725526623453\n"
     ]
    }
   ],
   "source": [
    "from sklearn.model_selection import KFold\n",
    "\n",
    "kf = KFold(n_splits=5, shuffle=True, random_state=42)\n",
    "knn_rmse_scores = []\n",
    "\n",
    "for train_indices, test_indices in kf.split(small_ratings):\n",
    "    train_cv = small_ratings.iloc[train_indices]\n",
    "    test_cv = small_ratings.iloc[test_indices]\n",
    "    \n",
    "    # Prepare user-item matrix\n",
    "    user_item_matrix_cv = train_cv.pivot_table(index='userId', columns='movieId', values='rating').fillna(0)\n",
    "    knn_model_cv = NearestNeighbors(metric='cosine', algorithm='brute')\n",
    "    knn_model_cv.fit(user_item_matrix_cv.values)\n",
    "    \n",
    "    # Predict and evaluate\n",
    "    test_users_cv = test_cv['userId'].values\n",
    "    test_movies_cv = test_cv['movieId'].values\n",
    "    knn_predictions_cv = []\n",
    "    \n",
    "    for user, movie in zip(test_users_cv, test_movies_cv):\n",
    "        pred = knn_predict(user, movie, k=5)\n",
    "        knn_predictions_cv.append(pred)\n",
    "    \n",
    "    rmse = np.sqrt(mean_squared_error(test_cv['rating'], knn_predictions_cv))\n",
    "    knn_rmse_scores.append(rmse)\n",
    "\n",
    "print(f'K-NN Cross-Validation RMSE: {np.mean(knn_rmse_scores)} ± {np.std(knn_rmse_scores)}')\n"
   ]
  },
  {
   "cell_type": "markdown",
   "metadata": {},
   "source": [
    "SVD Cross-Validation"
   ]
  },
  {
   "cell_type": "code",
   "execution_count": 37,
   "metadata": {},
   "outputs": [
    {
     "name": "stdout",
     "output_type": "stream",
     "text": [
      "SVD Cross-Validation RMSE: 3.5794245759621246 ± 0.004678299886043345\n"
     ]
    }
   ],
   "source": [
    "svd_rmse_scores = []\n",
    "\n",
    "for train_indices, test_indices in kf.split(small_ratings):\n",
    "    train_cv = small_ratings.iloc[train_indices]\n",
    "    test_cv = small_ratings.iloc[test_indices]\n",
    "    \n",
    "    # Prepare data\n",
    "    R_cv = train_cv.pivot_table(index='userId', columns='movieId', values='rating').fillna(0).values\n",
    "    user_ids_cv = train_cv['userId'].unique()\n",
    "    movie_ids_cv = train_cv['movieId'].unique()\n",
    "    \n",
    "    # Mean center\n",
    "    R_mean_cv = np.mean(R_cv, axis=1)\n",
    "    R_demeaned_cv = R_cv - R_mean_cv.reshape(-1, 1)\n",
    "    \n",
    "    # Perform SVD\n",
    "    U_cv, sigma_cv, Vt_cv = svds(R_demeaned_cv, k=50)\n",
    "    sigma_cv = np.diag(sigma_cv)\n",
    "    \n",
    "    # Reconstruct ratings\n",
    "    R_pred_cv = np.dot(np.dot(U_cv, sigma_cv), Vt_cv) + R_mean_cv.reshape(-1, 1)\n",
    "    predictions_df_cv = pd.DataFrame(R_pred_cv, index=user_ids_cv, columns=movie_ids_cv)\n",
    "    \n",
    "    # Predict and evaluate\n",
    "    svd_predictions_cv = []\n",
    "    for user, movie in zip(test_cv['userId'], test_cv['movieId']):\n",
    "        pred = predictions_df_cv.loc[user, movie] if user in predictions_df_cv.index and movie in predictions_df_cv.columns else global_mean\n",
    "        svd_predictions_cv.append(pred)\n",
    "    \n",
    "    rmse = np.sqrt(mean_squared_error(test_cv['rating'], svd_predictions_cv))\n",
    "    svd_rmse_scores.append(rmse)\n",
    "\n",
    "print(f'SVD Cross-Validation RMSE: {np.mean(svd_rmse_scores)} ± {np.std(svd_rmse_scores)}')\n"
   ]
  },
  {
   "cell_type": "markdown",
   "metadata": {},
   "source": [
    "9.2 Hypothesis Testing\n",
    "We will perform a paired t-test between the baseline and advanced models."
   ]
  },
  {
   "cell_type": "code",
   "execution_count": 38,
   "metadata": {},
   "outputs": [
    {
     "name": "stdout",
     "output_type": "stream",
     "text": [
      "K-NN vs Baseline t-statistic: -132.83649454215723, p-value: 0.0\n",
      "SVD vs Baseline t-statistic: -214.99920121434576, p-value: 0.0\n"
     ]
    }
   ],
   "source": [
    "from scipy.stats import ttest_rel\n",
    "\n",
    "# Baseline errors\n",
    "baseline_errors = (test_data['rating'] - global_mean) ** 2\n",
    "\n",
    "# K-NN errors\n",
    "knn_errors = (test_data['rating'] - knn_predictions) ** 2\n",
    "\n",
    "# SVD errors\n",
    "svd_errors = (test_data['rating'] - svd_predictions) ** 2\n",
    "\n",
    "# Paired t-test between baseline and K-NN\n",
    "t_stat_knn, p_value_knn = ttest_rel(baseline_errors, knn_errors)\n",
    "print(f'K-NN vs Baseline t-statistic: {t_stat_knn}, p-value: {p_value_knn}')\n",
    "\n",
    "# Paired t-test between baseline and SVD\n",
    "t_stat_svd, p_value_svd = ttest_rel(baseline_errors, svd_errors)\n",
    "print(f'SVD vs Baseline t-statistic: {t_stat_svd}, p-value: {p_value_svd}')\n"
   ]
  },
  {
   "cell_type": "markdown",
   "metadata": {},
   "source": [
    "Interpretation:\n",
    "\n",
    "Null Hypothesis: No significant difference between the model's RMSE and the baseline RMSE.\n",
    "Alternative Hypothesis: The model's RMSE is significantly lower than the baseline RMSE.\n",
    "If the p-value is less than 0.05, we reject the null hypothesis."
   ]
  },
  {
   "cell_type": "markdown",
   "metadata": {},
   "source": [
    "10. Analysis and Conclusion"
   ]
  },
  {
   "cell_type": "markdown",
   "metadata": {},
   "source": [
    "10.1 Compare Model Performances"
   ]
  },
  {
   "cell_type": "code",
   "execution_count": 39,
   "metadata": {},
   "outputs": [
    {
     "name": "stdout",
     "output_type": "stream",
     "text": [
      "Baseline RMSE: 1.058058818984873\n",
      "K-NN Model RMSE: 2.7451076261579694\n",
      "SVD Model RMSE: 3.5914821003515343\n"
     ]
    }
   ],
   "source": [
    "print(f'Baseline RMSE: {baseline_rmse}')\n",
    "print(f'K-NN Model RMSE: {knn_rmse}')\n",
    "print(f'SVD Model RMSE: {svd_rmse}')\n"
   ]
  },
  {
   "cell_type": "markdown",
   "metadata": {},
   "source": [
    "10.2 Observations\n",
    "Baseline Model: Provides a benchmark RMSE.\n",
    "K-NN Model: Collaborative filtering based on user similarities.\n",
    "SVD Model: Matrix factorization capturing latent features."
   ]
  },
  {
   "cell_type": "markdown",
   "metadata": {},
   "source": [
    "10.3 Conclusion\n",
    "Advanced Models vs. Baseline: If the advanced models have significantly lower RMSE and p-values < 0.05, they outperform the baseline.\n",
    "Hybrid Model: Combines both collaborative and content-based filtering, offering personalized recommendations even for users with sparse data."
   ]
  }
 ],
 "metadata": {
  "kernelspec": {
   "display_name": "base",
   "language": "python",
   "name": "python3"
  },
  "language_info": {
   "codemirror_mode": {
    "name": "ipython",
    "version": 3
   },
   "file_extension": ".py",
   "mimetype": "text/x-python",
   "name": "python",
   "nbconvert_exporter": "python",
   "pygments_lexer": "ipython3",
   "version": "3.11.5"
  }
 },
 "nbformat": 4,
 "nbformat_minor": 2
}
